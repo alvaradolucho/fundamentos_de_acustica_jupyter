{
  "metadata": {
    "iooxa": {
      "id": {
        "block": "1adh7M7luY3tOYPCiCW0",
        "project": "OkUU4QDlQhht6uz4byLE",
        "version": 3
      }
    },
    "kernelspec": {
      "name": "python",
      "display_name": "Python (Pyodide)",
      "language": "python"
    },
    "language_info": {
      "codemirror_mode": {
        "name": "python",
        "version": 3
      },
      "file_extension": ".py",
      "mimetype": "text/x-python",
      "name": "python",
      "nbconvert_exporter": "python",
      "pygments_lexer": "ipython3",
      "version": "3.8"
    }
  },
  "nbformat_minor": 5,
  "nbformat": 4,
  "cells": [
    {
      "cell_type": "markdown",
      "source": "## Prefijos científicos",
      "metadata": {
        "iooxa": {
          "id": {
            "block": "2T89h062tctiACUPOJt9",
            "project": "OkUU4QDlQhht6uz4byLE",
            "version": 1
          }
        }
      },
      "id": "45ff48ba-7b02-4849-aa7a-ba90cb7896ed"
    },
    {
      "cell_type": "markdown",
      "source": "## Principios Físicos\n\nEn la física exploramos desde lo más pequeño hasta lo más grande. Desde una fracción pequeña de un protón hasta el universo mismo, contemplando aproximadamente 45 órdenes de magnitud. Para expresar las mediciones cuantitativamente, necesitamos introducir las **unidades de medida**. Las unidades fundamentales de la física son: **longitud**, **tiempo** y **masa**.\n\n| Longitud | Tiempo | Masa |\n|----------|--------|------|\n| Metros | Segundos | Hilógramos |\n| m | s | kg |\n\nA partir de estas unidades, se pueden desarrollar teóricamente todas las unidades derivadas, como centrímetros (cm), milímetros (mm), minutos (min), horas (hrs), días, años, milisegundos (ms), gramos (g), litros (lt), etc.",
      "metadata": {
        "iooxa": {
          "id": {
            "block": "tyLqMYMHRDe6pxlK1EbG",
            "project": "OkUU4QDlQhht6uz4byLE",
            "version": 1
          }
        }
      },
      "id": "3f3c6dc6-30e8-4169-b019-f6dfa9a769cd"
    },
    {
      "cell_type": "markdown",
      "source": "## Acústica\n\nAcústica es la rama de la física que estudia los fenómenos asociados a la **generación**, **propagación** y **recepción** del sonido.\n\n",
      "metadata": {
        "iooxa": {
          "id": {
            "block": "u6aDtWVSryPHlWHRdUe5",
            "project": "OkUU4QDlQhht6uz4byLE",
            "version": 1
          }
        },
        "tags": []
      },
      "id": "7bc34ab2-bc27-4d5b-ace0-1630fcce2648"
    },
    {
      "cell_type": "markdown",
      "source": "El **sonido** es una perturbación producida en un medio elástico, como el *aire*. Aquellas perturbaciones suelen ser extremadamente pequeñas, pero alguna *suficientemente* grande será visible al ojo humano, como en el [siguiente caso (min 4:37)](https://www.youtube.com/watch?v=sv0tGx80yLk).\n\nLa acústica al ser una rama de la física, interactúa constantemente con otras ramas, las que se nombran a continuación.\n\n| Medio | Rama de la física |\n| ----------- | ----------- |\n| Sólidos  | Mecánica |\n| Fluidos (Aire) | Acústica |\n| Vacío | Electromagnetismo |\n\nLos ejemplos de interacción entre estas tres ramas de la física más conocidos son los **micrófonos** y **altavoces**.\n\n### Sonido\n\nEntenderemos como **sonido** a aquellas pertubaciones en el aire (desde ahora **señales acústicas**) que pueden ser percibidas por el ser humano. El oído humano es capaz de escuchar las perturbaciones sonoras entre las 20 y las 20.000 oscilaciones por cada segundo (o Hz). Todo lo demás es imperceptible por el oído humano, siendo el rango inferior conocido como **infrasonido** y el superior como **ultrasonido**.\n\n\n**<center>Rangos de frecuencia</center>**\n\n| Menor a 20 Hz | Entre 20 Hz a 20 kHz | Mayor a 20 kHz |\n| ----------- | ----------- | ----------- | \n| Infrasonido  | Sonido | Ultrasonido |\n\n<!-- ![convert notebook to web app](https://raw.githubusercontent.com/mljar/visual-identity/main/mercury/mercury_convert_notebook.png)\n-->\n\n### Elementos del sonido\n\nActualmente se reconocen cinco elementos del sonido: **amplitud**, **frecuencia**, **timbre**, **duración** y **ataque**.\n\n* **Amplitud:**  Se refiere al tamaño de la onda y está relacionado con la intensidad sonora, o dicho de otra forma: **sonoridad** (*loudness*).\n* **Tono:**  Se refiere a la altura tonal de la onda y está relacionada con la **frecuencia de oscilación**.\n* **Timbre:** Se refiere a la cualidad que hace distinguibles a las fuentes sonoras. Está relacionada con la **forma de la onda** y su **espectro de frecuencias**.\n* **Duración:** El **tiempo** en que el sonido se mantiene en ejecución.\n* **Ataque:** El tiempo en que el sonido demora en llegar, desde el silencio hasta su máxima amplitud. Está relacionada con la *percusividad* del sonido.\n\nConsideremos un **tono puro**. La ecuación que lo representa se muestra a continuación:\n\n$$y = A\\sin(\\omega t + \\phi)$$\n\nEn donde:\n* $y$ es la posición de la onda en un tiempo determinado.\n* $A$ es la amplitud de la onda.\n* $\\omega$ es la velocidad angular de la oscilación. Se puede obtener conociendo la frecuencia de la onda, mediante $\\omega = 2\\pi f$.\n* $t$ es un instante de tiempo determinado.\n* $\\phi$ es el desfase de la onda respecto de un comienzo determinado.\n\nLa gráfica interactiva a continuación nos muestra la forma de este tono puro.",
      "metadata": {
        "iooxa": {
          "id": {
            "block": "OxkUMSwCmk9UnnaE99ga",
            "project": "OkUU4QDlQhht6uz4byLE",
            "version": 1
          }
        }
      },
      "id": "f0351c0d-8797-4661-9fec-bb927b1a6e8c"
    },
    {
      "cell_type": "code",
      "source": "from IPython.display import IFrame\n\npatch_url = 'https://editor.p5js.org/alvaradolucho/sketches/td-y2WIGu'\nframe = IFrame(patch_url, width=1000, height=600)\ndisplay(frame)",
      "metadata": {
        "iooxa": {
          "id": {
            "block": "4q2N28cGZxYZ7hlryhof",
            "project": "OkUU4QDlQhht6uz4byLE",
            "version": 1
          },
          "outputId": {
            "block": "rnm5fUvz36HYMyo7slRe",
            "project": "OkUU4QDlQhht6uz4byLE",
            "version": 1
          }
        },
        "tags": [],
        "trusted": true
      },
      "execution_count": 5,
      "outputs": [
        {
          "output_type": "display_data",
          "data": {
            "text/plain": "<IPython.lib.display.IFrame at 0xec2840>",
            "text/html": "\n        <iframe\n            width=\"1000\"\n            height=\"600\"\n            src=\"https://editor.p5js.org/alvaradolucho/sketches/td-y2WIGu\"\n            frameborder=\"0\"\n            allowfullscreen\n            \n        ></iframe>\n        "
          },
          "metadata": {}
        }
      ],
      "id": "2abe8fcb-cb04-48d2-839a-954313f40584"
    },
    {
      "cell_type": "markdown",
      "source": "## Oscilaciones en el tiempo y el espacio\n\nConsidere una cuerda fijada en ambos extremos, al ser esta cuerda excitada mediante una fuerza oscilatoria, podemos ver que se **transmite una onda en el espacio y  el tiempo**.\n\n![En esta imagen vemos una onda en el espacio](https://media.springernature.com/lw685/springer-static/image/chp%3A10.1007%2F978-1-4614-0557-3_2/MediaObjects/214769_1_En_2_Fig7_HTML.gif)\n\nEs decir, tendremos una frecuencia temporal $f$ y una frecuencia espacial $\\nu$. Notar que en la imagen anterior se observa una frecuencia espacial.\n\nEn el espacio podemos medir la longitud de onda $\\lambda: [m]$ y con ello obtener su frecuencia espacial:\n$$\\nu = \\dfrac{1}{\\lambda} \\qquad\\left[\\dfrac{1}{m}\\right]$$\n\nAdemás, podemos conocer el número de ciclos por cada unidad de distancia.\n\n$$k = \\dfrac{2\\pi}{\\lambda}\\qquad \\left[\\dfrac{\\text{ciclos}}{m}\\right]$$\n\nEn el tiempo, podemos medir el período de oscilación $T: [s]$, con la cual podemos obtener la frecuencia $f$:\n\n$$f = \\dfrac{1}{T}\\qquad \\left[\\frac{1}{s}\\right] = \\left[\\text{Hz}\\right]$$\n\nCon ello, podemos obtener la frecuencia circular de oscilación $\\omega$, que puede obtenerse mediante:\n\n$$\\omega = 2\\pi f = \\dfrac{2\\pi}{T}$$\n\nEs importante reconocer las similaridades en los casos espacial y temporal:\n* $f$ es análoga a $\\nu$.\n* $T$ es análoga a $\\lambda$.\n* $\\omega$ es análoga a $k$.\n\n\n\n## Propagación del sonido\n\nPara que haya sonido debe haber un medio elástico por donde se propague. Imaginémoslo como gotas que caen en medio del lago. Nuestro medio, como hemos dicho, es el aire, pero los principios que veremos en este curso servirán para todo medio elástico, sea aire, agua, aceite, etc.\n\nConsiderando una temperatura estándar de 20°C, dos constantes del medio aire nos serán de gran utilidad para el resto del curso.\n\n1. Velocidad de propagación del sonido en el aire:\n$$c = 344\\ \\dfrac{m}{s}$$\n\n2. Densidad del aire:\n$$\\rho_0 = 1.18\\ \\dfrac{kg}{m^3}$$\n\nCon ello ahora podemos relacionar los conceptos de la onda espacial y temporal con el aire. De este modo completamos el sistema sonoro que conocemos.\n\n$$\\lambda = \\dfrac{c}{f}$$\n\ncon $$20\\ \\text{Hz} \\leq f \\leq 20\\ \\text{kHz}$$\n\n¿Cuál es el rango audible en términos de longitudes de onda?\n\n<details>\n  <summary>Mostrar/Ocultar solución</summary>\n  \n  * Para el caso $f = 20$ Hz:\n    $\\lambda = \\dfrac{c}{f} = \\dfrac{344}{20} = 17.2$ m.\n  * Para el caso $f = 20$ kHz:\n    $\\lambda = \\dfrac{c}{f} = \\dfrac{344}{20000} = 0.0172\\ m = 1.72\\ cm$.  \n    \n    Por lo tanto, el rango audible expresado en longitudes de onda es:\n    $$1.7\\ cm \\leq \\lambda \\leq 17\\ m$$\n</details>\n",
      "metadata": {},
      "id": "79233554-9105-4164-bd05-128917bfae7e"
    },
    {
      "cell_type": "code",
      "source": "344 / 20000",
      "metadata": {},
      "execution_count": 2,
      "outputs": [
        {
          "execution_count": 2,
          "output_type": "execute_result",
          "data": {
            "text/plain": [
              "0.0172"
            ]
          },
          "metadata": {}
        }
      ],
      "id": "da5a8863-c88a-4a9d-9ff2-49bbc622f766"
    },
    {
      "cell_type": "code",
      "source": "2 * 67",
      "metadata": {
        "trusted": true
      },
      "execution_count": 3,
      "outputs": [
        {
          "execution_count": 3,
          "output_type": "execute_result",
          "data": {
            "text/plain": "134"
          },
          "metadata": {}
        }
      ],
      "id": "30ec392d-957d-4f6b-8f7e-381022c9dd5e"
    },
    {
      "cell_type": "code",
      "source": "from IPython.display import IFrame\n\npatch_url = 'https://editor.p5js.org/alvaradolucho/sketches/rcgnUeZHN'\nframe = IFrame(patch_url, width=1000, height=600)\ndisplay(frame)",
      "metadata": {
        "trusted": true
      },
      "execution_count": 6,
      "outputs": [
        {
          "output_type": "display_data",
          "data": {
            "text/plain": "<IPython.lib.display.IFrame at 0x14236b0>",
            "text/html": "\n        <iframe\n            width=\"1000\"\n            height=\"600\"\n            src=\"https://editor.p5js.org/alvaradolucho/sketches/rcgnUeZHN\"\n            frameborder=\"0\"\n            allowfullscreen\n            \n        ></iframe>\n        "
          },
          "metadata": {}
        }
      ],
      "id": "362fa2e7-96d5-4ab2-9161-f230ce37ae5a"
    }
  ]
}